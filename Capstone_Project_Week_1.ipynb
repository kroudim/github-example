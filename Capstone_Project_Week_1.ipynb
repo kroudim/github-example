{
 "cells": [
  {
   "cell_type": "markdown",
   "metadata": {},
   "source": [
    "<h1><font size = 5>Capstone Project - The battle of Neighborhood Introduction/Business Problem</font></h1>"
   ]
  },
  {
   "cell_type": "markdown",
   "metadata": {},
   "source": [
    "<b>Objective</b>\n",
    "\n",
    "The aim of this report is to study and analyze the neighborhoods of Toronto city and group them into similar clusters and, to analyze those clusters to gather meaningful information. That information can be used to find out neighborhoods that are same as your current neighborhood or at least similar.This information provided by this report would be valuable for people who are interested in relocating to different part of the city and are looking to find new neighborhoods that are very similar to their existing neighborhood.\n",
    "\n",
    "<b>Problem Description </b>\n",
    "\n",
    "Say you live on the west side of the city of Toronto in Canada. You love your neighborhood, mainly because of all the great amenities and other types of venues that exist in the neighborhood, such as gourmet fast food joints, pharmacies, parks, fitness falities and so on. Now say you receive a job offer from a great company on the other side of the city with great career prospects. However, given the far distance from your current place you unfortunately must move if you decide to accept the offer.\n",
    "\n",
    "Using machine learning  we can  determine neighborhoods on the other side of the city that are the same as current neighborhood, easing the moving change.\n",
    "\n",
    "<b>Data Description </b>\n",
    "\n",
    "To consider the objective stated above, we can list the below data sources used for the analysis.\n",
    "\n",
    "a) Toronto Neighborhood Data:\n",
    "\n",
    "The following Wikipedia page was scraped to pull out the necessary information: https://en.wikipedia.org/wiki/List_of_postal_codes_of_Canada:_M\n",
    "\n",
    "The information obtained i.e. the table of postal codes, borough and neighborhood was transformed into a pandas data frame for further analysis.\n",
    "\n",
    "b) Coordinate data for each Neighborhood in Toronto:\n",
    "\n",
    "The following csv file was used to get the latitude and longitude for the Neighborhood http://cocl.us/Geospatial_data"
   ]
  }
 ],
 "metadata": {
  "kernelspec": {
   "display_name": "Python",
   "language": "python",
   "name": "conda-env-python-py"
  },
  "language_info": {
   "codemirror_mode": {
    "name": "ipython",
    "version": 3
   },
   "file_extension": ".py",
   "mimetype": "text/x-python",
   "name": "python",
   "nbconvert_exporter": "python",
   "pygments_lexer": "ipython3",
   "version": "3.6.10"
  }
 },
 "nbformat": 4,
 "nbformat_minor": 4
}
